{
 "cells": [
  {
   "cell_type": "code",
   "execution_count": 3,
   "metadata": {
    "collapsed": true
   },
   "outputs": [],
   "source": [
    "import re\n",
    "import datetime"
   ]
  },
  {
   "cell_type": "code",
   "execution_count": 40,
   "metadata": {
    "collapsed": false
   },
   "outputs": [],
   "source": [
    "def words(inputs):\n",
    "    words = re.findall(r\"(\\w\\S+[^\\d ])\", inputs)\n",
    "    if words == []:\n",
    "        return None\n",
    "    return words"
   ]
  },
  {
   "cell_type": "code",
   "execution_count": 41,
   "metadata": {
    "collapsed": false
   },
   "outputs": [
    {
     "name": "stdout",
     "output_type": "stream",
     "text": [
      "['18-wheeler', 'dogma']\n"
     ]
    }
   ],
   "source": [
    "print(words(\"18-wheeler dogma 12\"))"
   ]
  },
  {
   "cell_type": "code",
   "execution_count": 5,
   "metadata": {
    "collapsed": false
   },
   "outputs": [],
   "source": [
    "def phone_numbers(inputs):\n",
    "    phone_number = {}\n",
    "    numbers = re.findall(r\"(\\(?[\\d]{3}\\)?).?([\\d]{3}.?[\\d]{4})\", inputs)\n",
    "    if numbers == []:\n",
    "        return None\n",
    "    area_code, number = numbers[0]\n",
    "    phone_number[\"number\"] = number\n",
    "    phone_number[\"area_code\"] = area_code\n",
    "    return phone_number"
   ]
  },
  {
   "cell_type": "code",
   "execution_count": 6,
   "metadata": {
    "collapsed": false
   },
   "outputs": [
    {
     "name": "stdout",
     "output_type": "stream",
     "text": [
      "{'number': '635-3343', 'area_code': '215'}\n"
     ]
    }
   ],
   "source": [
    "print(phone_numbers(\"215-635-3343\"))"
   ]
  },
  {
   "cell_type": "code",
   "execution_count": 7,
   "metadata": {
    "collapsed": false
   },
   "outputs": [],
   "source": [
    "def money(inputs):\n",
    "    if inputs.count(','):\n",
    "        if not re.findall(r\",\\d{3}\", inputs):\n",
    "            return None\n",
    "        inputs = re.findall(r\"([^\\,])\", inputs)\n",
    "        inputs = ''.join(inputs)\n",
    "    cash_money = {}\n",
    "    if inputs.count('.'):\n",
    "        if not re.findall(r\".\\d{2}\", inputs):\n",
    "            return None\n",
    "    if inputs.count('$') > 1:\n",
    "        return None\n",
    "    cash = re.findall(r\"(\\S)(\\d+.?(?:\\d+))\", inputs)\n",
    "    if len(cash[0]) < 2:\n",
    "        return None\n",
    "    symbol, amount = cash[0]\n",
    "    if len(symbol) >1 and len(symbol) < 1:\n",
    "        return None\n",
    "    cash_money[\"currency\"] = symbol\n",
    "    cash_money[\"amount\"] = float(amount)\n",
    "    return cash_money"
   ]
  },
  {
   "cell_type": "code",
   "execution_count": 8,
   "metadata": {
    "collapsed": false
   },
   "outputs": [
    {
     "name": "stdout",
     "output_type": "stream",
     "text": [
      "{'amount': 456555555.55, 'currency': '$'}\n"
     ]
    }
   ],
   "source": [
    "print(money(\"$456,555,555.55\"))"
   ]
  },
  {
   "cell_type": "code",
   "execution_count": 9,
   "metadata": {
    "collapsed": false
   },
   "outputs": [],
   "source": [
    "def zips(inputs):\n",
    "    zip_code = {}\n",
    "    full_zip = re.findall(r\"(\\d+)(-?\\d{4})?\", inputs)\n",
    "    if full_zip == []:\n",
    "        return None\n",
    "    zips, plus4 = full_zip[0]\n",
    "    if len(zips) != 5:\n",
    "        return None\n",
    "    zip_code[\"zip\"] = zips\n",
    "    if plus4 == '':\n",
    "        plus4 = None\n",
    "        zip_code[\"plus4\"] = plus4\n",
    "    else:\n",
    "        zip_code[\"plus4\"] = plus4[1:]\n",
    "    return zip_code"
   ]
  },
  {
   "cell_type": "code",
   "execution_count": 10,
   "metadata": {
    "collapsed": false
   },
   "outputs": [
    {
     "name": "stdout",
     "output_type": "stream",
     "text": [
      "{'plus4': None, 'zip': '12444'}\n"
     ]
    }
   ],
   "source": [
    "print(zips(\"12444\"))"
   ]
  },
  {
   "cell_type": "code",
   "execution_count": null,
   "metadata": {
    "collapsed": true
   },
   "outputs": [],
   "source": [
    "(\"9/4/1976\", {\"month\": 9, \"day\": 4, \"year\": 1976}),\n",
    "(\"1976-09-04\", {\"month\": 9, \"day\": 4, \"year\": 1976}),\n",
    "(\"2015-01-01\", {\"month\": 1, \"day\": 1, \"year\": 2015}),\n",
    "(\"02/15/2004\", {\"month\": 2, \"day\": 15, \"year\": 2004}),\n",
    "(\"9/4\", None),\n",
    "(\"2015\", None),"
   ]
  },
  {
   "cell_type": "code",
   "execution_count": 158,
   "metadata": {
    "collapsed": false
   },
   "outputs": [],
   "source": [
    "def extract_date(inputs):\n",
    "    tests = [r\"(?P<month>\\d{1,2})/(?P<day>\\d{1,2})/(?P<year>\\d{4}|\\d{2})\",\n",
    "            r\"(?P<year>\\d{4})-(?P<month>\\d{1,2})-(?P<day>\\d{2})\"]\n",
    "    for test in tests:\n",
    "        match = re.match(test, inputs)\n",
    "        if match:\n",
    "            return match\n",
    "        \n",
    "def clean_date(year, month, day):\n",
    "    day = int(day)\n",
    "    month = int(month)\n",
    "    year = int(year)\n",
    "    \n",
    "    return {\"year\": year, \"month\": month, \"day\": day}\n",
    "\n",
    "\n",
    "def date(inputs):\n",
    "    match = extract_date(inputs)\n",
    "    if not match:\n",
    "        return None\n",
    "    ddict = match.groupdict()\n",
    "    ddict = clean_date(**ddict)\n",
    "    return ddict"
   ]
  },
  {
   "cell_type": "code",
   "execution_count": 159,
   "metadata": {
    "collapsed": false
   },
   "outputs": [
    {
     "name": "stdout",
     "output_type": "stream",
     "text": [
      "None\n",
      "{'month': 9, 'day': 4, 'year': 1976}\n"
     ]
    }
   ],
   "source": [
    "\n",
    "print(date(\"01/4\"))\n",
    "print(date(\"1976-09-04\"))"
   ]
  },
  {
   "cell_type": "code",
   "execution_count": null,
   "metadata": {
    "collapsed": true
   },
   "outputs": [],
   "source": []
  },
  {
   "cell_type": "code",
   "execution_count": 160,
   "metadata": {
    "collapsed": true
   },
   "outputs": [],
   "source": [
    "text = \"\"\"Dear Mr. Davis,\n",
    "\n",
    "I got to know of your company through our mutual friend Fiona Williams and the\n",
    "training you offer to graduate students in Advertising.\n",
    "\n",
    "I am a graduate student of Mass Communications with specialization in\n",
    "Advertising.  I am currently pursuing the last year of my course.\n",
    "I would very much like to see firsthand the work environment in an advertising\n",
    "agency.\n",
    "\n",
    "If you would like a reference, my advisor can be reached at (454) 999-1212.\n",
    "\n",
    "You can contact me at (919) 123-4569 at your convenience.\"\"\""
   ]
  },
  {
   "cell_type": "code",
   "execution_count": 166,
   "metadata": {
    "collapsed": false
   },
   "outputs": [],
   "source": [
    "def phone_numbers(text):\n",
    "    phone_number = {}\n",
    "    numbers = re.findall(r\"(\\(?[\\d]{3}\\)?.?[\\d]{3}.?[\\d]{4})\", text)\n",
    "    if numbers == []:\n",
    "        return None\n",
    "    return numbers"
   ]
  },
  {
   "cell_type": "code",
   "execution_count": 168,
   "metadata": {
    "collapsed": false
   },
   "outputs": [
    {
     "data": {
      "text/plain": [
       "True"
      ]
     },
     "execution_count": 168,
     "metadata": {},
     "output_type": "execute_result"
    }
   ],
   "source": [
    "phone_numbers(text) ==[\"(454) 999-1212\", \"(919) 123-4569\"]"
   ]
  },
  {
   "cell_type": "code",
   "execution_count": null,
   "metadata": {
    "collapsed": true
   },
   "outputs": [],
   "source": []
  },
  {
   "cell_type": "code",
   "execution_count": 224,
   "metadata": {
    "collapsed": false
   },
   "outputs": [],
   "source": [
    "def binary_numbers(string):\n",
    "    if re.search(r\"[2-9]\", string):\n",
    "        return False\n",
    "    return True"
   ]
  },
  {
   "cell_type": "code",
   "execution_count": 225,
   "metadata": {
    "collapsed": false
   },
   "outputs": [
    {
     "data": {
      "text/plain": [
       "False"
      ]
     },
     "execution_count": 225,
     "metadata": {},
     "output_type": "execute_result"
    }
   ],
   "source": [
    "binary_numbers(\"010210101\")"
   ]
  },
  {
   "cell_type": "code",
   "execution_count": 234,
   "metadata": {
    "collapsed": true
   },
   "outputs": [],
   "source": [
    "def binary_even(string):\n",
    "    if re.search(r\"$0\", string):\n",
    "        return True\n",
    "    return False"
   ]
  },
  {
   "cell_type": "code",
   "execution_count": 239,
   "metadata": {
    "collapsed": false
   },
   "outputs": [
    {
     "data": {
      "text/plain": [
       "False"
      ]
     },
     "execution_count": 239,
     "metadata": {},
     "output_type": "execute_result"
    }
   ],
   "source": [
    "binary_even(\"10101010\")"
   ]
  },
  {
   "cell_type": "code",
   "execution_count": null,
   "metadata": {
    "collapsed": true
   },
   "outputs": [],
   "source": []
  }
 ],
 "metadata": {
  "kernelspec": {
   "display_name": "Python 3",
   "language": "python",
   "name": "python3"
  },
  "language_info": {
   "codemirror_mode": {
    "name": "ipython",
    "version": 3
   },
   "file_extension": ".py",
   "mimetype": "text/x-python",
   "name": "python",
   "nbconvert_exporter": "python",
   "pygments_lexer": "ipython3",
   "version": "3.5.0"
  }
 },
 "nbformat": 4,
 "nbformat_minor": 0
}
