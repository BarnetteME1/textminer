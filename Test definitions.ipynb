{
 "cells": [
  {
   "cell_type": "code",
   "execution_count": 471,
   "metadata": {
    "collapsed": true
   },
   "outputs": [],
   "source": [
    "import re\n",
    "import datetime"
   ]
  },
  {
   "cell_type": "code",
   "execution_count": 130,
   "metadata": {
    "collapsed": false
   },
   "outputs": [],
   "source": [
    "def test_words(inputs):\n",
    "    words = re.findall(r\"(\\w\\S+[^\\d])\", inputs)\n",
    "    if words == []:\n",
    "        return None\n",
    "    return words"
   ]
  },
  {
   "cell_type": "code",
   "execution_count": 171,
   "metadata": {
    "collapsed": false
   },
   "outputs": [],
   "source": [
    "def phone_numbers(inputs):\n",
    "    phone_number = {}\n",
    "    numbers = re.findall(r\"(\\(?[\\d]{3}\\)?).?([\\d]{3}.?[\\d]{4})\", inputs)\n",
    "    if numbers == []:\n",
    "        return None\n",
    "    area_code, number = numbers[0]\n",
    "    phone_number[\"number\"] = number\n",
    "    phone_number[\"area_code\"] = area_code\n",
    "    return phone_number"
   ]
  },
  {
   "cell_type": "code",
   "execution_count": 277,
   "metadata": {
    "collapsed": false
   },
   "outputs": [
    {
     "name": "stdout",
     "output_type": "stream",
     "text": [
      "{'number': '635-3343', 'area_code': '215'}\n"
     ]
    }
   ],
   "source": [
    "print(phone_numbers(\"215-635-3343\"))"
   ]
  },
  {
   "cell_type": "code",
   "execution_count": 686,
   "metadata": {
    "collapsed": false
   },
   "outputs": [],
   "source": [
    "def money(inputs):\n",
    "    if inputs.count(','):\n",
    "        if not re.findall(r\",\\d{3}\", inputs):\n",
    "            return None\n",
    "        inputs = re.findall(r\"([^\\,])\", inputs)\n",
    "        inputs = ''.join(inputs)\n",
    "    cash_money = {}\n",
    "    if inputs.count('.'):\n",
    "        if not re.findall(r\".\\d{2}\", inputs):\n",
    "            return None\n",
    "    if inputs.count('$') > 1:\n",
    "        return None\n",
    "    cash = re.findall(r\"(\\S)(\\d+.?(?:\\d+))\", inputs)\n",
    "    if len(cash[0]) < 2:\n",
    "        return None\n",
    "    symbol, amount = cash[0]\n",
    "    if len(symbol) >1 and len(symbol) < 1:\n",
    "        return None\n",
    "    cash_money[\"currency\"] = symbol\n",
    "    cash_money[\"amount\"] = float(amount)\n",
    "    return cash_money"
   ]
  },
  {
   "cell_type": "code",
   "execution_count": 690,
   "metadata": {
    "collapsed": false
   },
   "outputs": [
    {
     "name": "stdout",
     "output_type": "stream",
     "text": [
      "{'amount': 456555555.55, 'currency': '$'}\n"
     ]
    }
   ],
   "source": [
    "print(money(\"$456,555,555.55\"))"
   ]
  },
  {
   "cell_type": "code",
   "execution_count": 716,
   "metadata": {
    "collapsed": false
   },
   "outputs": [],
   "source": [
    "def zips(inputs):\n",
    "    zip_code = {}\n",
    "    full_zip = re.findall(r\"(\\d+)(-?\\d{4})?\", inputs)\n",
    "    if full_zip == []:\n",
    "        return None\n",
    "    zips, plus4 = full_zip[0]\n",
    "    if len(zips) != 5:\n",
    "        return None\n",
    "    zip_code[\"zip\"] = zips\n",
    "    if plus4 == '':\n",
    "        plus4 = None\n",
    "        zip_code[\"plus4\"] = plus4\n",
    "    else:\n",
    "        zip_code[\"plus4\"] = plus4[1:]\n",
    "    return zip_code"
   ]
  },
  {
   "cell_type": "code",
   "execution_count": 717,
   "metadata": {
    "collapsed": false
   },
   "outputs": [
    {
     "name": "stdout",
     "output_type": "stream",
     "text": [
      "{'zip': '12444', 'plus4': None}\n"
     ]
    }
   ],
   "source": [
    "print(zips(\"12444\"))"
   ]
  },
  {
   "cell_type": "code",
   "execution_count": 458,
   "metadata": {
    "collapsed": true
   },
   "outputs": [],
   "source": [
    "def date(inputs):\n",
    "    "
   ]
  },
  {
   "cell_type": "code",
   "execution_count": null,
   "metadata": {
    "collapsed": true
   },
   "outputs": [],
   "source": [
    "(\"9/4/1976\", {\"month\": 9, \"day\": 4, \"year\": 1976}),\n",
    "    (\"1976-09-04\", {\"month\": 9, \"day\": 4, \"year\": 1976}),\n",
    "    (\"2015-01-01\", {\"month\": 1, \"day\": 1, \"year\": 2015}),\n",
    "    (\"02/15/2004\", {\"month\": 2, \"day\": 15, \"year\": 2004}),\n",
    "    (\"9/4\", None),\n",
    "    (\"2015\", None),"
   ]
  },
  {
   "cell_type": "code",
   "execution_count": 718,
   "metadata": {
    "collapsed": false
   },
   "outputs": [
    {
     "ename": "TypeError",
     "evalue": "date() missing 2 required positional arguments: 'month' and 'day'",
     "output_type": "error",
     "traceback": [
      "\u001b[0;31m---------------------------------------------------------------------------\u001b[0m",
      "\u001b[0;31mTypeError\u001b[0m                                 Traceback (most recent call last)",
      "\u001b[0;32m<ipython-input-718-c2412259fd74>\u001b[0m in \u001b[0;36m<module>\u001b[0;34m()\u001b[0m\n\u001b[0;32m----> 1\u001b[0;31m \u001b[0mprint\u001b[0m\u001b[0;34m(\u001b[0m\u001b[0mdate\u001b[0m\u001b[0;34m(\u001b[0m\u001b[0;36m9\u001b[0m\u001b[0;34m/\u001b[0m\u001b[0;36m4\u001b[0m\u001b[0;34m/\u001b[0m\u001b[0;36m1976\u001b[0m\u001b[0;34m)\u001b[0m\u001b[0;34m)\u001b[0m\u001b[0;34m\u001b[0m\u001b[0m\n\u001b[0m",
      "\u001b[0;31mTypeError\u001b[0m: date() missing 2 required positional arguments: 'month' and 'day'"
     ]
    }
   ],
   "source": [
    "print(date(9/4/1976))"
   ]
  },
  {
   "cell_type": "code",
   "execution_count": 478,
   "metadata": {
    "collapsed": true
   },
   "outputs": [],
   "source": [
    "sentence = (\"A symmetry of a pattern is, loosely speaking, a way of transforming \"\n",
    "            \"the pattern so that the pattern looks exactly the same after the \"\n",
    "            \"transformation.\")"
   ]
  },
  {
   "cell_type": "code",
   "execution_count": null,
   "metadata": {
    "collapsed": true
   },
   "outputs": [],
   "source": []
  }
 ],
 "metadata": {
  "kernelspec": {
   "display_name": "Python 3",
   "language": "python",
   "name": "python3"
  },
  "language_info": {
   "codemirror_mode": {
    "name": "ipython",
    "version": 3
   },
   "file_extension": ".py",
   "mimetype": "text/x-python",
   "name": "python",
   "nbconvert_exporter": "python",
   "pygments_lexer": "ipython3",
   "version": "3.5.0"
  }
 },
 "nbformat": 4,
 "nbformat_minor": 0
}
